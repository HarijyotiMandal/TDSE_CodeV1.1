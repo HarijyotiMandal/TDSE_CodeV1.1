{
 "cells": [
  {
   "cell_type": "code",
   "execution_count": 2,
   "id": "546c1d2e-2bd2-49cd-8ae5-375ed719dbd3",
   "metadata": {},
   "outputs": [
    {
     "data": {
      "application/vnd.jupyter.widget-view+json": {
       "model_id": "df0716e897d142b1a5d4c72e569c79a2",
       "version_major": 2,
       "version_minor": 0
      },
      "text/plain": [
       "VBox(children=(FloatSlider(value=1.0, description='|c₀| (s)', max=2.0), FloatSlider(value=1.0, description='|c…"
      ]
     },
     "metadata": {},
     "output_type": "display_data"
    },
    {
     "data": {
      "application/vnd.jupyter.widget-view+json": {
       "model_id": "5b4f767b119f45779633d03178436ca3",
       "version_major": 2,
       "version_minor": 0
      },
      "text/plain": [
       "Output()"
      ]
     },
     "metadata": {},
     "output_type": "display_data"
    }
   ],
   "source": [
    "import numpy as np\n",
    "import plotly.graph_objects as go\n",
    "from scipy.special import sph_harm\n",
    "import ipywidgets as widgets\n",
    "from IPython.display import display\n",
    "\n",
    "# Spherical coordinates\n",
    "theta = np.linspace(0, np.pi, 100)\n",
    "phi = np.linspace(0, 2*np.pi, 100)\n",
    "theta, phi = np.meshgrid(theta, phi)\n",
    "\n",
    "# Compute spherical harmonics Y_{l0} (m=0)\n",
    "def Y_l0(l, theta):\n",
    "    return sph_harm(0, l, 0, theta).real\n",
    "\n",
    "# PAD function\n",
    "def PAD(theta, c0, c1, c2, phi0, phi1, phi2):\n",
    "    Y0 = Y_l0(0, theta)\n",
    "    Y1 = Y_l0(1, theta)\n",
    "    Y2 = Y_l0(2, theta)\n",
    "    psi = (\n",
    "        c0 * Y0 * np.exp(1j * phi0) +\n",
    "        c1 * Y1 * np.exp(1j * phi1) +\n",
    "        c2 * Y2 * np.exp(1j * phi2)\n",
    "    )\n",
    "    return np.abs(psi)**2\n",
    "\n",
    "# Plot function\n",
    "def plot_PAD(c0, c1, c2, phi0, phi1, phi2):\n",
    "    R = PAD(theta, c0, c1, c2, phi0, phi1, phi2)\n",
    "\n",
    "    # Cartesian coordinates\n",
    "    X = R * np.sin(theta) * np.cos(phi)\n",
    "    Y = R * np.sin(theta) * np.sin(phi)\n",
    "    Z = R * np.cos(theta)\n",
    "\n",
    "    # Create surface trace\n",
    "    surface = go.Surface(\n",
    "        x=X, y=Y, z=Z, surfacecolor=R, colorscale='Viridis',\n",
    "        showscale=False, opacity=0.9\n",
    "    )\n",
    "\n",
    "    # Projection on XY plane\n",
    "    proj_xy = go.Surface(\n",
    "        z=np.zeros_like(Z), x=X, y=Y, surfacecolor=R,\n",
    "        colorscale='Viridis', showscale=False, opacity=0.3\n",
    "    )\n",
    "\n",
    "    # Projection on YZ plane\n",
    "    proj_yz = go.Surface(\n",
    "        x=np.zeros_like(X), y=Y, z=Z, surfacecolor=R,\n",
    "        colorscale='Viridis', showscale=False, opacity=0.3\n",
    "    )\n",
    "\n",
    "    # Projection on XZ plane\n",
    "    proj_xz = go.Surface(\n",
    "        y=np.zeros_like(Y), x=X, z=Z, surfacecolor=R,\n",
    "        colorscale='Viridis', showscale=False, opacity=0.3\n",
    "    )\n",
    "\n",
    "    # Layout\n",
    "    layout = go.Layout(\n",
    "        title=\"Photoelectron Angular Distribution (PAD)\",\n",
    "        scene=dict(\n",
    "            xaxis=dict(title='X'),\n",
    "            yaxis=dict(title='Y'),\n",
    "            zaxis=dict(title='Z'),\n",
    "            aspectmode='data',\n",
    "        ),\n",
    "        margin=dict(l=0, r=0, b=0, t=40),\n",
    "    )\n",
    "\n",
    "    fig = go.Figure(data=[surface, proj_xy, proj_yz, proj_xz], layout=layout)\n",
    "    fig.show()\n",
    "\n",
    "# Sliders\n",
    "c0_slider = widgets.FloatSlider(value=1.0, min=0.0, max=2.0, step=0.1, description='|c₀| (s)')\n",
    "c1_slider = widgets.FloatSlider(value=1.0, min=0.0, max=2.0, step=0.1, description='|c₁| (p)')\n",
    "c2_slider = widgets.FloatSlider(value=1.0, min=0.0, max=2.0, step=0.1, description='|c₂| (d)')\n",
    "phi0_slider = widgets.FloatSlider(value=0.0, min=0.0, max=2*np.pi, step=0.1, description='ϕ₀ (s)')\n",
    "phi1_slider = widgets.FloatSlider(value=0.0, min=0.0, max=2*np.pi, step=0.1, description='ϕ₁ (p)')\n",
    "phi2_slider = widgets.FloatSlider(value=0.0, min=0.0, max=2*np.pi, step=0.1, description='ϕ₂ (d)')\n",
    "\n",
    "ui = widgets.VBox([c0_slider, c1_slider, c2_slider, phi0_slider, phi1_slider, phi2_slider])\n",
    "\n",
    "def update_plot(c0, c1, c2, phi0, phi1, phi2):\n",
    "    plot_PAD(c0, c1, c2, phi0, phi1, phi2)\n",
    "\n",
    "out = widgets.interactive_output(update_plot, {\n",
    "    'c0': c0_slider,\n",
    "    'c1': c1_slider,\n",
    "    'c2': c2_slider,\n",
    "    'phi0': phi0_slider,\n",
    "    'phi1': phi1_slider,\n",
    "    'phi2': phi2_slider,\n",
    "})\n",
    "\n",
    "display(ui, out)\n"
   ]
  },
  {
   "cell_type": "code",
   "execution_count": null,
   "id": "159e74f0-e0ee-422d-9cb7-b50d65f2adf9",
   "metadata": {},
   "outputs": [],
   "source": []
  }
 ],
 "metadata": {
  "kernelspec": {
   "display_name": "Python 3 (ipykernel)",
   "language": "python",
   "name": "python3"
  },
  "language_info": {
   "codemirror_mode": {
    "name": "ipython",
    "version": 3
   },
   "file_extension": ".py",
   "mimetype": "text/x-python",
   "name": "python",
   "nbconvert_exporter": "python",
   "pygments_lexer": "ipython3",
   "version": "3.11.7"
  }
 },
 "nbformat": 4,
 "nbformat_minor": 5
}
